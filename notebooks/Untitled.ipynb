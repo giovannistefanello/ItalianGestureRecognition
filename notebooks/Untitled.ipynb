{
 "cells": [
  {
   "cell_type": "markdown",
   "id": "91e57e02-4687-4762-a513-003624087736",
   "metadata": {},
   "source": [
    "# Install dependencies"
   ]
  },
  {
   "cell_type": "code",
   "execution_count": 1,
   "id": "3a0825d2-7479-4330-aeac-ca006bd1e878",
   "metadata": {
    "collapsed": true,
    "jupyter": {
     "outputs_hidden": true
    },
    "tags": []
   },
   "outputs": [
    {
     "name": "stdout",
     "output_type": "stream",
     "text": [
      "Collecting tensorflow\n",
      "  Using cached tensorflow-2.10.0-cp310-cp310-win_amd64.whl (455.9 MB)\n",
      "Collecting tensorflow-gpu\n",
      "  Using cached tensorflow_gpu-2.10.0-cp310-cp310-win_amd64.whl (455.9 MB)\n",
      "Requirement already satisfied: opencv-python in c:\\users\\gio\\projects\\italiangesturerecognition\\envs\\italiangesturerecognition\\lib\\site-packages (4.6.0.66)\n",
      "Requirement already satisfied: matplotlib in c:\\users\\gio\\projects\\italiangesturerecognition\\envs\\italiangesturerecognition\\lib\\site-packages (3.6.0)\n",
      "Requirement already satisfied: absl-py>=1.0.0 in c:\\users\\gio\\projects\\italiangesturerecognition\\envs\\italiangesturerecognition\\lib\\site-packages (from tensorflow) (1.2.0)\n",
      "Requirement already satisfied: google-pasta>=0.1.1 in c:\\users\\gio\\projects\\italiangesturerecognition\\envs\\italiangesturerecognition\\lib\\site-packages (from tensorflow) (0.2.0)\n",
      "Requirement already satisfied: opt-einsum>=2.3.2 in c:\\users\\gio\\projects\\italiangesturerecognition\\envs\\italiangesturerecognition\\lib\\site-packages (from tensorflow) (3.3.0)\n",
      "Requirement already satisfied: tensorboard<2.11,>=2.10 in c:\\users\\gio\\projects\\italiangesturerecognition\\envs\\italiangesturerecognition\\lib\\site-packages (from tensorflow) (2.10.1)\n",
      "Requirement already satisfied: typing-extensions>=3.6.6 in c:\\users\\gio\\projects\\italiangesturerecognition\\envs\\italiangesturerecognition\\lib\\site-packages (from tensorflow) (4.3.0)\n",
      "Requirement already satisfied: termcolor>=1.1.0 in c:\\users\\gio\\projects\\italiangesturerecognition\\envs\\italiangesturerecognition\\lib\\site-packages (from tensorflow) (2.0.1)\n",
      "Requirement already satisfied: protobuf<3.20,>=3.9.2 in c:\\users\\gio\\projects\\italiangesturerecognition\\envs\\italiangesturerecognition\\lib\\site-packages (from tensorflow) (3.19.6)\n",
      "Requirement already satisfied: libclang>=13.0.0 in c:\\users\\gio\\projects\\italiangesturerecognition\\envs\\italiangesturerecognition\\lib\\site-packages (from tensorflow) (14.0.6)\n",
      "Requirement already satisfied: astunparse>=1.6.0 in c:\\users\\gio\\projects\\italiangesturerecognition\\envs\\italiangesturerecognition\\lib\\site-packages (from tensorflow) (1.6.3)\n",
      "Requirement already satisfied: tensorflow-io-gcs-filesystem>=0.23.1 in c:\\users\\gio\\projects\\italiangesturerecognition\\envs\\italiangesturerecognition\\lib\\site-packages (from tensorflow) (0.27.0)\n",
      "Requirement already satisfied: gast<=0.4.0,>=0.2.1 in c:\\users\\gio\\projects\\italiangesturerecognition\\envs\\italiangesturerecognition\\lib\\site-packages (from tensorflow) (0.4.0)\n",
      "Requirement already satisfied: six>=1.12.0 in c:\\users\\gio\\projects\\italiangesturerecognition\\envs\\italiangesturerecognition\\lib\\site-packages (from tensorflow) (1.16.0)\n",
      "Requirement already satisfied: keras-preprocessing>=1.1.1 in c:\\users\\gio\\projects\\italiangesturerecognition\\envs\\italiangesturerecognition\\lib\\site-packages (from tensorflow) (1.1.2)\n",
      "Requirement already satisfied: grpcio<2.0,>=1.24.3 in c:\\users\\gio\\projects\\italiangesturerecognition\\envs\\italiangesturerecognition\\lib\\site-packages (from tensorflow) (1.49.1)\n",
      "Requirement already satisfied: flatbuffers>=2.0 in c:\\users\\gio\\projects\\italiangesturerecognition\\envs\\italiangesturerecognition\\lib\\site-packages (from tensorflow) (22.9.24)\n",
      "Requirement already satisfied: packaging in c:\\users\\gio\\projects\\italiangesturerecognition\\envs\\italiangesturerecognition\\lib\\site-packages (from tensorflow) (21.3)\n",
      "Requirement already satisfied: numpy>=1.20 in c:\\users\\gio\\projects\\italiangesturerecognition\\envs\\italiangesturerecognition\\lib\\site-packages (from tensorflow) (1.23.3)\n",
      "Requirement already satisfied: setuptools in c:\\users\\gio\\projects\\italiangesturerecognition\\envs\\italiangesturerecognition\\lib\\site-packages (from tensorflow) (63.4.1)\n",
      "Requirement already satisfied: keras<2.11,>=2.10.0 in c:\\users\\gio\\projects\\italiangesturerecognition\\envs\\italiangesturerecognition\\lib\\site-packages (from tensorflow) (2.10.0)\n",
      "Requirement already satisfied: tensorflow-estimator<2.11,>=2.10.0 in c:\\users\\gio\\projects\\italiangesturerecognition\\envs\\italiangesturerecognition\\lib\\site-packages (from tensorflow) (2.10.0)\n",
      "Requirement already satisfied: wrapt>=1.11.0 in c:\\users\\gio\\projects\\italiangesturerecognition\\envs\\italiangesturerecognition\\lib\\site-packages (from tensorflow) (1.14.1)\n",
      "Requirement already satisfied: h5py>=2.9.0 in c:\\users\\gio\\projects\\italiangesturerecognition\\envs\\italiangesturerecognition\\lib\\site-packages (from tensorflow) (3.7.0)\n",
      "Requirement already satisfied: cycler>=0.10 in c:\\users\\gio\\projects\\italiangesturerecognition\\envs\\italiangesturerecognition\\lib\\site-packages (from matplotlib) (0.11.0)\n",
      "Requirement already satisfied: fonttools>=4.22.0 in c:\\users\\gio\\projects\\italiangesturerecognition\\envs\\italiangesturerecognition\\lib\\site-packages (from matplotlib) (4.37.4)\n",
      "Requirement already satisfied: pillow>=6.2.0 in c:\\users\\gio\\projects\\italiangesturerecognition\\envs\\italiangesturerecognition\\lib\\site-packages (from matplotlib) (9.2.0)\n",
      "Requirement already satisfied: contourpy>=1.0.1 in c:\\users\\gio\\projects\\italiangesturerecognition\\envs\\italiangesturerecognition\\lib\\site-packages (from matplotlib) (1.0.5)\n",
      "Requirement already satisfied: kiwisolver>=1.0.1 in c:\\users\\gio\\projects\\italiangesturerecognition\\envs\\italiangesturerecognition\\lib\\site-packages (from matplotlib) (1.4.4)\n",
      "Requirement already satisfied: python-dateutil>=2.7 in c:\\users\\gio\\projects\\italiangesturerecognition\\envs\\italiangesturerecognition\\lib\\site-packages (from matplotlib) (2.8.2)\n",
      "Requirement already satisfied: pyparsing>=2.2.1 in c:\\users\\gio\\projects\\italiangesturerecognition\\envs\\italiangesturerecognition\\lib\\site-packages (from matplotlib) (3.0.9)\n",
      "Requirement already satisfied: wheel<1.0,>=0.23.0 in c:\\users\\gio\\projects\\italiangesturerecognition\\envs\\italiangesturerecognition\\lib\\site-packages (from astunparse>=1.6.0->tensorflow) (0.37.1)\n",
      "Requirement already satisfied: google-auth-oauthlib<0.5,>=0.4.1 in c:\\users\\gio\\projects\\italiangesturerecognition\\envs\\italiangesturerecognition\\lib\\site-packages (from tensorboard<2.11,>=2.10->tensorflow) (0.4.6)\n",
      "Requirement already satisfied: markdown>=2.6.8 in c:\\users\\gio\\projects\\italiangesturerecognition\\envs\\italiangesturerecognition\\lib\\site-packages (from tensorboard<2.11,>=2.10->tensorflow) (3.4.1)\n",
      "Requirement already satisfied: tensorboard-data-server<0.7.0,>=0.6.0 in c:\\users\\gio\\projects\\italiangesturerecognition\\envs\\italiangesturerecognition\\lib\\site-packages (from tensorboard<2.11,>=2.10->tensorflow) (0.6.1)\n",
      "Requirement already satisfied: requests<3,>=2.21.0 in c:\\users\\gio\\projects\\italiangesturerecognition\\envs\\italiangesturerecognition\\lib\\site-packages (from tensorboard<2.11,>=2.10->tensorflow) (2.28.1)\n",
      "Requirement already satisfied: tensorboard-plugin-wit>=1.6.0 in c:\\users\\gio\\projects\\italiangesturerecognition\\envs\\italiangesturerecognition\\lib\\site-packages (from tensorboard<2.11,>=2.10->tensorflow) (1.8.1)\n",
      "Requirement already satisfied: werkzeug>=1.0.1 in c:\\users\\gio\\projects\\italiangesturerecognition\\envs\\italiangesturerecognition\\lib\\site-packages (from tensorboard<2.11,>=2.10->tensorflow) (2.2.2)\n",
      "Requirement already satisfied: google-auth<3,>=1.6.3 in c:\\users\\gio\\projects\\italiangesturerecognition\\envs\\italiangesturerecognition\\lib\\site-packages (from tensorboard<2.11,>=2.10->tensorflow) (2.12.0)\n",
      "Requirement already satisfied: rsa<5,>=3.1.4 in c:\\users\\gio\\projects\\italiangesturerecognition\\envs\\italiangesturerecognition\\lib\\site-packages (from google-auth<3,>=1.6.3->tensorboard<2.11,>=2.10->tensorflow) (4.9)\n",
      "Requirement already satisfied: cachetools<6.0,>=2.0.0 in c:\\users\\gio\\projects\\italiangesturerecognition\\envs\\italiangesturerecognition\\lib\\site-packages (from google-auth<3,>=1.6.3->tensorboard<2.11,>=2.10->tensorflow) (5.2.0)\n",
      "Requirement already satisfied: pyasn1-modules>=0.2.1 in c:\\users\\gio\\projects\\italiangesturerecognition\\envs\\italiangesturerecognition\\lib\\site-packages (from google-auth<3,>=1.6.3->tensorboard<2.11,>=2.10->tensorflow) (0.2.8)\n",
      "Requirement already satisfied: requests-oauthlib>=0.7.0 in c:\\users\\gio\\projects\\italiangesturerecognition\\envs\\italiangesturerecognition\\lib\\site-packages (from google-auth-oauthlib<0.5,>=0.4.1->tensorboard<2.11,>=2.10->tensorflow) (1.3.1)\n",
      "Requirement already satisfied: urllib3<1.27,>=1.21.1 in c:\\users\\gio\\projects\\italiangesturerecognition\\envs\\italiangesturerecognition\\lib\\site-packages (from requests<3,>=2.21.0->tensorboard<2.11,>=2.10->tensorflow) (1.26.12)\n",
      "Requirement already satisfied: idna<4,>=2.5 in c:\\users\\gio\\projects\\italiangesturerecognition\\envs\\italiangesturerecognition\\lib\\site-packages (from requests<3,>=2.21.0->tensorboard<2.11,>=2.10->tensorflow) (3.4)\n",
      "Requirement already satisfied: certifi>=2017.4.17 in c:\\users\\gio\\projects\\italiangesturerecognition\\envs\\italiangesturerecognition\\lib\\site-packages (from requests<3,>=2.21.0->tensorboard<2.11,>=2.10->tensorflow) (2022.9.14)\n",
      "Requirement already satisfied: charset-normalizer<3,>=2 in c:\\users\\gio\\projects\\italiangesturerecognition\\envs\\italiangesturerecognition\\lib\\site-packages (from requests<3,>=2.21.0->tensorboard<2.11,>=2.10->tensorflow) (2.1.1)\n",
      "Requirement already satisfied: MarkupSafe>=2.1.1 in c:\\users\\gio\\projects\\italiangesturerecognition\\envs\\italiangesturerecognition\\lib\\site-packages (from werkzeug>=1.0.1->tensorboard<2.11,>=2.10->tensorflow) (2.1.1)\n",
      "Requirement already satisfied: pyasn1<0.5.0,>=0.4.6 in c:\\users\\gio\\projects\\italiangesturerecognition\\envs\\italiangesturerecognition\\lib\\site-packages (from pyasn1-modules>=0.2.1->google-auth<3,>=1.6.3->tensorboard<2.11,>=2.10->tensorflow) (0.4.8)\n",
      "Requirement already satisfied: oauthlib>=3.0.0 in c:\\users\\gio\\projects\\italiangesturerecognition\\envs\\italiangesturerecognition\\lib\\site-packages (from requests-oauthlib>=0.7.0->google-auth-oauthlib<0.5,>=0.4.1->tensorboard<2.11,>=2.10->tensorflow) (3.2.1)\n",
      "Installing collected packages: tensorflow-gpu, tensorflow\n",
      "Successfully installed tensorflow-2.10.0 tensorflow-gpu-2.10.0\n"
     ]
    }
   ],
   "source": [
    "! pip install tensorflow tensorflow-gpu opencv-python matplotlib"
   ]
  },
  {
   "cell_type": "code",
   "execution_count": 1,
   "id": "90d3f82d-bfe6-4065-b748-34ce7710aab6",
   "metadata": {
    "tags": []
   },
   "outputs": [
    {
     "name": "stdout",
     "output_type": "stream",
     "text": [
      "Package                      Version\n",
      "---------------------------- ---------\n",
      "absl-py                      1.2.0\n",
      "asttokens                    2.0.8\n",
      "astunparse                   1.6.3\n",
      "backcall                     0.2.0\n",
      "cachetools                   5.2.0\n",
      "certifi                      2022.9.14\n",
      "charset-normalizer           2.1.1\n",
      "colorama                     0.4.5\n",
      "contourpy                    1.0.5\n",
      "cycler                       0.11.0\n",
      "debugpy                      1.6.3\n",
      "decorator                    5.1.1\n",
      "entrypoints                  0.4\n",
      "executing                    1.1.0\n",
      "flatbuffers                  22.9.24\n",
      "fonttools                    4.37.4\n",
      "gast                         0.4.0\n",
      "google-auth                  2.12.0\n",
      "google-auth-oauthlib         0.4.6\n",
      "google-pasta                 0.2.0\n",
      "grpcio                       1.49.1\n",
      "h5py                         3.7.0\n",
      "idna                         3.4\n",
      "ipykernel                    6.16.0\n",
      "ipython                      8.5.0\n",
      "jedi                         0.18.1\n",
      "jupyter_client               7.3.5\n",
      "jupyter-core                 4.11.1\n",
      "keras                        2.10.0\n",
      "Keras-Preprocessing          1.1.2\n",
      "kiwisolver                   1.4.4\n",
      "libclang                     14.0.6\n",
      "Markdown                     3.4.1\n",
      "MarkupSafe                   2.1.1\n",
      "matplotlib                   3.6.0\n",
      "matplotlib-inline            0.1.6\n",
      "nest-asyncio                 1.5.6\n",
      "numpy                        1.23.3\n",
      "oauthlib                     3.2.1\n",
      "opencv-python                4.6.0.66\n",
      "opt-einsum                   3.3.0\n",
      "packaging                    21.3\n",
      "parso                        0.8.3\n",
      "pickleshare                  0.7.5\n",
      "Pillow                       9.2.0\n",
      "pip                          22.2.2\n",
      "prompt-toolkit               3.0.31\n",
      "protobuf                     3.19.6\n",
      "psutil                       5.9.2\n",
      "pure-eval                    0.2.2\n",
      "pyasn1                       0.4.8\n",
      "pyasn1-modules               0.2.8\n",
      "Pygments                     2.13.0\n",
      "pyparsing                    3.0.9\n",
      "python-dateutil              2.8.2\n",
      "pywin32                      304\n",
      "pyzmq                        24.0.1\n",
      "requests                     2.28.1\n",
      "requests-oauthlib            1.3.1\n",
      "rsa                          4.9\n",
      "setuptools                   63.4.1\n",
      "six                          1.16.0\n",
      "stack-data                   0.5.1\n",
      "tensorboard                  2.10.1\n",
      "tensorboard-data-server      0.6.1\n",
      "tensorboard-plugin-wit       1.8.1\n",
      "tensorflow                   2.10.0\n",
      "tensorflow-estimator         2.10.0\n",
      "tensorflow-gpu               2.10.0\n",
      "tensorflow-io-gcs-filesystem 0.27.0\n",
      "termcolor                    2.0.1\n",
      "tornado                      6.2\n",
      "traitlets                    5.4.0\n",
      "typing_extensions            4.3.0\n",
      "urllib3                      1.26.12\n",
      "wcwidth                      0.2.5\n",
      "Werkzeug                     2.2.2\n",
      "wheel                        0.37.1\n",
      "wincertstore                 0.2\n",
      "wrapt                        1.14.1\n"
     ]
    }
   ],
   "source": [
    "! pip list"
   ]
  },
  {
   "cell_type": "markdown",
   "id": "b3478e5d-d70d-4652-9c66-58b0adb2efbc",
   "metadata": {},
   "source": [
    "# Import libraries"
   ]
  },
  {
   "cell_type": "code",
   "execution_count": 2,
   "id": "d60e6310-81d4-49f0-affa-ac222f1cdd4a",
   "metadata": {},
   "outputs": [],
   "source": [
    "import tensorflow as tf"
   ]
  },
  {
   "cell_type": "code",
   "execution_count": 3,
   "id": "7c87ea40-ec9b-4727-aba6-2f31176ac7b0",
   "metadata": {},
   "outputs": [
    {
     "data": {
      "text/plain": [
       "[PhysicalDevice(name='/physical_device:GPU:0', device_type='GPU')]"
      ]
     },
     "execution_count": 3,
     "metadata": {},
     "output_type": "execute_result"
    }
   ],
   "source": [
    "tf.config.list_physical_devices('GPU')"
   ]
  },
  {
   "cell_type": "code",
   "execution_count": 4,
   "id": "d30c33f0-a25c-4bcd-b37e-edd438bafd9e",
   "metadata": {},
   "outputs": [
    {
     "name": "stdout",
     "output_type": "stream",
     "text": [
      "Sun Oct  2 22:25:10 2022       \n",
      "+-----------------------------------------------------------------------------+\n",
      "| NVIDIA-SMI 511.69       Driver Version: 511.69       CUDA Version: 11.6     |\n",
      "|-------------------------------+----------------------+----------------------+\n",
      "| GPU  Name            TCC/WDDM | Bus-Id        Disp.A | Volatile Uncorr. ECC |\n",
      "| Fan  Temp  Perf  Pwr:Usage/Cap|         Memory-Usage | GPU-Util  Compute M. |\n",
      "|                               |                      |               MIG M. |\n",
      "|===============================+======================+======================|\n",
      "|   0  NVIDIA GeForce ... WDDM  | 00000000:02:00.0 Off |                  N/A |\n",
      "| N/A   41C    P0    N/A /  N/A |      0MiB /  2048MiB |      2%      Default |\n",
      "|                               |                      |                  N/A |\n",
      "+-------------------------------+----------------------+----------------------+\n",
      "                                                                               \n",
      "+-----------------------------------------------------------------------------+\n",
      "| Processes:                                                                  |\n",
      "|  GPU   GI   CI        PID   Type   Process name                  GPU Memory |\n",
      "|        ID   ID                                                   Usage      |\n",
      "|=============================================================================|\n",
      "|  No running processes found                                                 |\n",
      "+-----------------------------------------------------------------------------+\n"
     ]
    }
   ],
   "source": [
    "! nvidia-smi"
   ]
  },
  {
   "cell_type": "code",
   "execution_count": null,
   "id": "415b9c20-0d8e-417f-bd71-673d2d2ad2fc",
   "metadata": {},
   "outputs": [],
   "source": []
  }
 ],
 "metadata": {
  "kernelspec": {
   "display_name": "italiangesturerecognition",
   "language": "python",
   "name": "italiangesturerecognition"
  },
  "language_info": {
   "codemirror_mode": {
    "name": "ipython",
    "version": 3
   },
   "file_extension": ".py",
   "mimetype": "text/x-python",
   "name": "python",
   "nbconvert_exporter": "python",
   "pygments_lexer": "ipython3",
   "version": "3.10.4"
  }
 },
 "nbformat": 4,
 "nbformat_minor": 5
}
